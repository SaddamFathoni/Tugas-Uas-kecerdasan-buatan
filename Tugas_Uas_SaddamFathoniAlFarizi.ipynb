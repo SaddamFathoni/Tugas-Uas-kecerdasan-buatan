{
  "metadata": {
    "kernelspec": {
      "name": "python",
      "display_name": "Python (Pyodide)",
      "language": "python"
    },
    "language_info": {
      "codemirror_mode": {
        "name": "python",
        "version": 3
      },
      "file_extension": ".py",
      "mimetype": "text/x-python",
      "name": "python",
      "nbconvert_exporter": "python",
      "pygments_lexer": "ipython3",
      "version": "3.8"
    }
  },
  "nbformat_minor": 4,
  "nbformat": 4,
  "cells": [
    {
      "cell_type": "markdown",
      "source": "# Implementasi Kecerdasan Buatan Menggunakan Python\n\n## Pengantar\nDalam tutorial ini, kita akan membangun model klasifikasi sederhana menggunakan Logistic Regression. Dataset yang digunakan adalah dataset yang berisi fitur dan label.\n\n## Langkah-langkah\n\n### 1. Import Libraries\nKita mulai dengan mengimpor library yang diperlukan.\n```python\nimport numpy as np\nimport pandas as pd\nfrom sklearn.model_selection import train_test_split\nfrom sklearn.preprocessing import StandardScaler\nfrom sklearn.linear_model import LogisticRegression\nfrom sklearn.metrics import accuracy_score\n",
      "metadata": {}
    },
    {
      "cell_type": "code",
      "source": "# Import libraries\nimport numpy as np\nimport pandas as pd\nfrom sklearn.model_selection import train_test_split\nfrom sklearn.preprocessing import StandardScaler\nfrom sklearn.linear_model import LogisticRegression\nfrom sklearn.metrics import accuracy_score\n\n# Load dataset\ndata = pd.read_csv('data.csv')  # Ganti dengan path dataset Anda\n\n# Memisahkan fitur dan label\nX = data.drop('label', axis=1)  # Ganti 'label' dengan nama kolom label Anda\ny = data['label']  # Ganti 'label' dengan nama kolom label Anda\n\n# Membagi dataset menjadi data latih dan data uji\nX_train, X_test, y_train, y_test = train_test_split(X, y, test_size=0.2, random_state=42)\n\n# Standarisasi fitur\nscaler = StandardScaler()\nX_train = scaler.fit_transform(X_train)\nX_test = scaler.transform(X_test)\n\n# Inisialisasi dan latih model Logistic Regression\nmodel = LogisticRegression()\nmodel.fit(X_train, y_train)\n\n# Prediksi pada data uji\ny_pred = model.predict(X_test)\n\n# Evaluasi model\naccuracy = accuracy_score(y_test, y_pred)\nprint(f'Akurasi model: {accuracy * 100:.2f}%')\n",
      "metadata": {
        "trusted": true
      },
      "outputs": [],
      "execution_count": null
    }
  ]
}